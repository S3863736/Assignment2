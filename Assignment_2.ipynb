{
 "cells": [
  {
   "cell_type": "code",
   "execution_count": 8,
   "id": "ce0d7a17",
   "metadata": {},
   "outputs": [],
   "source": [
    "import zipfile \n",
    "with zipfile.ZipFile('Image_classification_data.zip', 'r') as zip_ref: \n",
    "    zip_ref.extractall('./') "
   ]
  },
  {
   "cell_type": "code",
   "execution_count": 11,
   "id": "7d5a3dc8",
   "metadata": {},
   "outputs": [
    {
     "name": "stdout",
     "output_type": "stream",
     "text": [
      "Train data : 5937, Val Data: 1979, Test Data: 1980\n"
     ]
    }
   ],
   "source": [
    "#The dataset consists of the images and a csv file. The labels and the image paths are in the CSV file.  \n",
    "#Lets randomly split the data into train/val/test\"\n",
    "import numpy as np \n",
    "from sklearn.model_selection import train_test_split \n",
    "import pandas as pd \n",
    "data = pd.read_csv('./data_labels_mainData.csv') \n",
    "train_data, test_data = train_test_split(data, test_size=0.2, random_state=42) \n",
    "train_data, val_data = train_test_split(train_data, test_size=0.25, random_state=42) \n",
    "print(\"Train data : {}, Val Data: {}, Test Data: {}\".format(train_data.shape[0], val_data.shape[0], test_data.shape[0]))\n"
   ]
  },
  {
   "cell_type": "code",
   "execution_count": 12,
   "id": "901943f6",
   "metadata": {},
   "outputs": [],
   "source": [
    "import matplotlib.pyplot as plt \n",
    "def plot_learning_curve(train_loss, val_loss, train_metric, val_metric, metric_name='Accuracy'): \n",
    "    plt.figure(figsize=(10,5)) \n",
    "    plt.subplot(1,2,1) \n",
    "    plt.plot(train_loss, 'r--') \n",
    "    plt.plot(val_loss, 'b--') \n",
    "    plt.xlabel(\"epochs\") \n",
    "    plt.ylabel(\"Loss\") \n",
    "    plt.legend(['train', 'val'], loc='upper left') \n",
    "    plt.subplot(1,2,2) \n",
    "    plt.plot(train_metric, 'r--') \n",
    "    plt.plot(val_metric, 'b--') \n",
    "    plt.xlabel(\"epochs\") \n",
    "    plt.ylabel(metric_name) \n",
    "    plt.legend(['train', 'val'], loc='upper left') \n",
    "    plt.show()"
   ]
  },
  {
   "cell_type": "code",
   "execution_count": 14,
   "id": "9625d91f",
   "metadata": {},
   "outputs": [],
   "source": [
    "INPUT_DIM = (32,32,3) \n",
    "HIDDEN_LAYER_DIM = 256 \n",
    "OUTPUT_CLASSES = 10"
   ]
  },
  {
   "cell_type": "code",
   "execution_count": 15,
   "id": "01f3a46a",
   "metadata": {},
   "outputs": [
    {
     "data": {
      "text/plain": [
       "'2.3.0'"
      ]
     },
     "execution_count": 15,
     "metadata": {},
     "output_type": "execute_result"
    }
   ],
   "source": [
    "import tensorflow as tf \n",
    "AUTOTUNE = tf.data.experimental.AUTOTUNE \n",
    "tf.__version__"
   ]
  },
  {
   "cell_type": "code",
   "execution_count": 17,
   "id": "6917a773",
   "metadata": {},
   "outputs": [],
   "source": [
    "import tensorflow as tf \n",
    "model = tf.keras.Sequential([ \n",
    "tf.keras.layers.Flatten(input_shape=INPUT_DIM), \n",
    "tf.keras.layers.Dense(HIDDEN_LAYER_DIM, activation='sigmoid'), tf.keras.layers.Dense(OUTPUT_CLASSES)])\n"
   ]
  },
  {
   "cell_type": "code",
   "execution_count": 18,
   "id": "7d0d40a5",
   "metadata": {},
   "outputs": [
    {
     "name": "stdout",
     "output_type": "stream",
     "text": [
      "Model: \"sequential_1\"\n",
      "_________________________________________________________________\n",
      "Layer (type)                 Output Shape              Param #   \n",
      "=================================================================\n",
      "flatten_1 (Flatten)          (None, 3072)              0         \n",
      "_________________________________________________________________\n",
      "dense_2 (Dense)              (None, 256)               786688    \n",
      "_________________________________________________________________\n",
      "dense_3 (Dense)              (None, 10)                2570      \n",
      "=================================================================\n",
      "Total params: 789,258\n",
      "Trainable params: 789,258\n",
      "Non-trainable params: 0\n",
      "_________________________________________________________________\n"
     ]
    }
   ],
   "source": [
    "model.summary()"
   ]
  },
  {
   "cell_type": "code",
   "execution_count": 19,
   "id": "51a7cff9",
   "metadata": {},
   "outputs": [
    {
     "data": {
      "image/png": "[encoded data removed]",
      "text/plain": [
       "<IPython.core.display.Image object>"
      ]
     },
     "execution_count": 19,
     "metadata": {},
     "output_type": "execute_result"
    }
   ],
   "source": [
    "tf.keras.utils.plot_model(model, show_shapes=True)\n"
   ]
  },
  {
   "cell_type": "code",
   "execution_count": 20,
   "id": "94580690",
   "metadata": {},
   "outputs": [],
   "source": [
    "model.compile(optimizer='SGD',loss=tf.keras.losses.CategoricalCrossentropy(from_logits=True), metrics=['categorical_accuracy'])\n"
   ]
  },
  {
   "cell_type": "code",
   "execution_count": 22,
   "id": "449ce488",
   "metadata": {},
   "outputs": [],
   "source": [
    "train_data['isCancerous'] = train_data['isCancerous'].astype('str') \n",
    "val_data['isCancerous'] = val_data['isCancerous'].astype('str')\n"
   ]
  },
  {
   "cell_type": "code",
   "execution_count": 36,
   "id": "d746dd5f",
   "metadata": {},
   "outputs": [
    {
     "name": "stdout",
     "output_type": "stream",
     "text": [
      "Found 0 validated image filenames belonging to 0 classes.\n",
      "Found 0 validated image filenames belonging to 0 classes.\n"
     ]
    },
    {
     "name": "stderr",
     "output_type": "stream",
     "text": [
      "C:\\Users\\SAI\\Anaconda3\\lib\\site-packages\\keras_preprocessing\\image\\dataframe_iterator.py:282: UserWarning: Found 5937 invalid image filename(s) in x_col=\"cellTypeName\". These filename(s) will be ignored.\n",
      "  .format(n_invalid, x_col)\n",
      "C:\\Users\\SAI\\Anaconda3\\lib\\site-packages\\keras_preprocessing\\image\\dataframe_iterator.py:282: UserWarning: Found 1979 invalid image filename(s) in x_col=\"cellTypeName\". These filename(s) will be ignored.\n",
      "  .format(n_invalid, x_col)\n"
     ]
    }
   ],
   "source": [
    "from tensorflow.keras.preprocessing.image import ImageDataGenerator \n",
    "train_datagen = ImageDataGenerator(rescale=1./255, data_format='channels_last') \n",
    "val_datagen = ImageDataGenerator(rescale=1./255, data_format='channels_last') \n",
    "batch_size = 32 \n",
    "train_generator = train_datagen.flow_from_dataframe( dataframe=train_data,  directory='./', x_col=\"cellTypeName\", y_col=\"isCancerous\", \n",
    "    target_size=(32, 32), batch_size=batch_size,class_mode='categorical') \n",
    "validation_generator = val_datagen.flow_from_dataframe( dataframe=val_data,  directory='./', x_col=\"cellTypeName\", y_col=\"isCancerous\", \n",
    "    target_size=(32, 32),batch_size=batch_size,   class_mode='categorical')\n"
   ]
  },
  {
   "cell_type": "code",
   "execution_count": null,
   "id": "4c6764ec",
   "metadata": {},
   "outputs": [],
   "source": []
  }
 ],
 "metadata": {
  "kernelspec": {
   "display_name": "Python 3",
   "language": "python",
   "name": "python3"
  },
  "language_info": {
   "codemirror_mode": {
    "name": "ipython",
    "version": 3
   },
   "file_extension": ".py",
   "mimetype": "text/x-python",
   "name": "python",
   "nbconvert_exporter": "python",
   "pygments_lexer": "ipython3",
   "version": "3.7.1"
  }
 },
 "nbformat": 4,
 "nbformat_minor": 5
}
